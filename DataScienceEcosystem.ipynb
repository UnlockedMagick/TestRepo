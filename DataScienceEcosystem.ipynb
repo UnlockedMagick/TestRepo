{
 "cells": [
  {
   "cell_type": "code",
   "execution_count": null,
   "id": "3b0ff0ce-7355-402f-b10b-262f43d8b525",
   "metadata": {},
   "outputs": [],
   "source": [
    "# Data Science and Ecosystem"
   ]
  },
  {
   "cell_type": "markdown",
   "id": "23d453a8-b958-4ef6-b680-5d2a0b742ae2",
   "metadata": {},
   "source": [
    "In this notebook, Data Science Tools and Ecosystem are summarized."
   ]
  },
  {
   "cell_type": "markdown",
   "id": "c18a3d8a-bb3b-46c8-a003-e373cfe3b035",
   "metadata": {},
   "source": [
    "Some of the popular languages that Data Scientists use are:\n",
    "1. Python\n",
    "2. R\n",
    "3. SQL\n",
    "4. Julia\n",
    "5. Javascript"
   ]
  },
  {
   "cell_type": "markdown",
   "id": "08e73540-16d7-4dcf-8a77-03d15309b50c",
   "metadata": {},
   "source": [
    "Some of the commonly used libraries used by Data Scientists include:\n",
    "1. Pandas\n",
    "2. Scikit-Learn\n",
    "3. NumPy\n",
    "4. Plotly\n",
    "5. Caret"
   ]
  },
  {
   "cell_type": "markdown",
   "id": "7eb0d3de-3b4c-4c08-b8ac-c2c0b5bf9393",
   "metadata": {},
   "source": [
    "# Data Science Tools"
   ]
  },
  {
   "cell_type": "markdown",
   "id": "477e376e-1602-4f03-ab7e-86080a8eac4c",
   "metadata": {},
   "source": [
    "|Jupyter Notebooks|RStudio|VsCode|"
   ]
  },
  {
   "attachments": {},
   "cell_type": "markdown",
   "id": "7855ec8a-5c5f-4c47-8b7d-7902ff79e710",
   "metadata": {},
   "source": [
    "<h3>Below are a few examples of evaluating arithmetic expressions in Python.</h3>"
   ]
  },
  {
   "cell_type": "markdown",
   "id": "617e3944-2024-4cbf-b6cf-6d1daad1463a",
   "metadata": {},
   "source": [
    "This a simple arithmetic expression to mutiply then add integers"
   ]
  },
  {
   "cell_type": "code",
   "execution_count": 2,
   "id": "e8c282b3-8a99-4e49-a0ab-3ceaf78a836f",
   "metadata": {},
   "outputs": [
    {
     "data": {
      "text/html": [
       "17"
      ],
      "text/latex": [
       "17"
      ],
      "text/markdown": [
       "17"
      ],
      "text/plain": [
       "[1] 17"
      ]
     },
     "metadata": {},
     "output_type": "display_data"
    }
   ],
   "source": [
    "(3*4)+5"
   ]
  },
  {
   "cell_type": "markdown",
   "id": "eb8da850-fc4b-4e50-bdcf-a65b32608e46",
   "metadata": {},
   "source": [
    "This will convert 200 minutes to hours by diving by 60"
   ]
  },
  {
   "cell_type": "code",
   "execution_count": 3,
   "id": "969f755f-74c2-445b-a734-333ea0f96e71",
   "metadata": {},
   "outputs": [
    {
     "data": {
      "text/html": [
       "3.33333333333333"
      ],
      "text/latex": [
       "3.33333333333333"
      ],
      "text/markdown": [
       "3.33333333333333"
      ],
      "text/plain": [
       "[1] 3.333333"
      ]
     },
     "metadata": {},
     "output_type": "display_data"
    }
   ],
   "source": [
    "(200/60)"
   ]
  },
  {
   "cell_type": "markdown",
   "id": "f0cf62f7-ec4f-4a4d-814f-3d2c8374c706",
   "metadata": {},
   "source": [
    "# Objectives\n",
    "* Python\n",
    "* Javascript\n",
    "* Python\n",
    "* Julia\n",
    "* SQL"
   ]
  },
  {
   "cell_type": "markdown",
   "id": "276e9eee-efae-448e-a92f-0d6430101c1d",
   "metadata": {},
   "source": [
    "<h2>Author</h2>"
   ]
  },
  {
   "cell_type": "markdown",
   "id": "ab7d5d5b-3dbd-4daa-a0b5-f11e2cbc2b7e",
   "metadata": {},
   "source": [
    "Justin Campo (Golden Alien)"
   ]
  },
  {
   "cell_type": "code",
   "execution_count": null,
   "id": "51082fb6-4f8b-4877-a2ca-fa8254495f50",
   "metadata": {},
   "outputs": [],
   "source": []
  }
 ],
 "metadata": {
  "kernelspec": {
   "display_name": "R",
   "language": "R",
   "name": "ir"
  },
  "language_info": {
   "codemirror_mode": "r",
   "file_extension": ".r",
   "mimetype": "text/x-r-source",
   "name": "R",
   "pygments_lexer": "r",
   "version": "4.4.2"
  }
 },
 "nbformat": 4,
 "nbformat_minor": 5
}
